{
 "cells": [
  {
   "cell_type": "markdown",
   "metadata": {},
   "source": [
    "# 1. Import data"
   ]
  },
  {
   "cell_type": "code",
   "execution_count": 1,
   "metadata": {},
   "outputs": [],
   "source": [
    "import pandas as pd\n",
    "import numpy as np\n",
    "import matplotlib.pyplot as plt\n",
    "import lexicon"
   ]
  },
  {
   "cell_type": "code",
   "execution_count": 80,
   "metadata": {},
   "outputs": [
    {
     "name": "stderr",
     "output_type": "stream",
     "text": [
      "b'Skipping line 22859: expected 9 fields, saw 11\\nSkipping line 24418: expected 9 fields, saw 11\\nSkipping line 54087: expected 9 fields, saw 11\\nSkipping line 56570: expected 9 fields, saw 11\\n'\n",
      "b'Skipping line 73864: expected 9 fields, saw 11\\nSkipping line 80662: expected 9 fields, saw 11\\nSkipping line 82466: expected 9 fields, saw 11\\nSkipping line 83078: expected 9 fields, saw 11\\nSkipping line 99050: expected 9 fields, saw 11\\nSkipping line 100956: expected 9 fields, saw 11\\n'\n"
     ]
    }
   ],
   "source": [
    "data = pd.read_csv('n_eng_news_sentence_20102019.csv', sep=';', error_bad_lines=False)"
   ]
  },
  {
   "cell_type": "code",
   "execution_count": 81,
   "metadata": {},
   "outputs": [
    {
     "data": {
      "text/html": [
       "<div>\n",
       "<style scoped>\n",
       "    .dataframe tbody tr th:only-of-type {\n",
       "        vertical-align: middle;\n",
       "    }\n",
       "\n",
       "    .dataframe tbody tr th {\n",
       "        vertical-align: top;\n",
       "    }\n",
       "\n",
       "    .dataframe thead th {\n",
       "        text-align: right;\n",
       "    }\n",
       "</style>\n",
       "<table border=\"1\" class=\"dataframe\">\n",
       "  <thead>\n",
       "    <tr style=\"text-align: right;\">\n",
       "      <th></th>\n",
       "      <th>news_id</th>\n",
       "      <th>media</th>\n",
       "      <th>section</th>\n",
       "      <th>date</th>\n",
       "      <th>news_seq</th>\n",
       "      <th>sent_seq</th>\n",
       "      <th>title</th>\n",
       "      <th>sim_score</th>\n",
       "      <th>sentence</th>\n",
       "    </tr>\n",
       "  </thead>\n",
       "  <tbody>\n",
       "    <tr>\n",
       "      <th>0</th>\n",
       "      <td>1</td>\n",
       "      <td>ZDNET</td>\n",
       "      <td>3D Printing</td>\n",
       "      <td>2010-03-19</td>\n",
       "      <td>10</td>\n",
       "      <td>1</td>\n",
       "      <td>MFPs Continue to Lead the Way in the Worldwide...</td>\n",
       "      <td>77.10</td>\n",
       "      <td>This segment had another solid showing in a ch...</td>\n",
       "    </tr>\n",
       "    <tr>\n",
       "      <th>1</th>\n",
       "      <td>2</td>\n",
       "      <td>ZDNET</td>\n",
       "      <td>3D Printing</td>\n",
       "      <td>2010-04-16</td>\n",
       "      <td>4</td>\n",
       "      <td>1</td>\n",
       "      <td>Printer drivers: A thing of the past? Google, ...</td>\n",
       "      <td>16.03</td>\n",
       "      <td>Using the one component all major devices and ...</td>\n",
       "    </tr>\n",
       "    <tr>\n",
       "      <th>2</th>\n",
       "      <td>3</td>\n",
       "      <td>ZDNET</td>\n",
       "      <td>3D Printing</td>\n",
       "      <td>2010-04-21</td>\n",
       "      <td>1</td>\n",
       "      <td>1</td>\n",
       "      <td>Sorting Out the Printing Device \"Zoo\"</td>\n",
       "      <td>37.65</td>\n",
       "      <td>In research recently conducted by the company ...</td>\n",
       "    </tr>\n",
       "    <tr>\n",
       "      <th>3</th>\n",
       "      <td>4</td>\n",
       "      <td>ZDNET</td>\n",
       "      <td>3D Printing</td>\n",
       "      <td>2010-04-23</td>\n",
       "      <td>0</td>\n",
       "      <td>0</td>\n",
       "      <td>On the Prowl for MPS and Cute Cats</td>\n",
       "      <td>52.70</td>\n",
       "      <td>That's backed up by research from Springboard ...</td>\n",
       "    </tr>\n",
       "    <tr>\n",
       "      <th>4</th>\n",
       "      <td>5</td>\n",
       "      <td>ZDNET</td>\n",
       "      <td>3D Printing</td>\n",
       "      <td>2010-05-17</td>\n",
       "      <td>11</td>\n",
       "      <td>0</td>\n",
       "      <td>HP earnings on tap: Strong quarter but integra...</td>\n",
       "      <td>19.51</td>\n",
       "      <td>Whitmore said HP is likely to maintain its fis...</td>\n",
       "    </tr>\n",
       "    <tr>\n",
       "      <th>...</th>\n",
       "      <td>...</td>\n",
       "      <td>...</td>\n",
       "      <td>...</td>\n",
       "      <td>...</td>\n",
       "      <td>...</td>\n",
       "      <td>...</td>\n",
       "      <td>...</td>\n",
       "      <td>...</td>\n",
       "      <td>...</td>\n",
       "    </tr>\n",
       "    <tr>\n",
       "      <th>155695</th>\n",
       "      <td>82113</td>\n",
       "      <td>Reuters</td>\n",
       "      <td>technology-news</td>\n",
       "      <td>2019-12-30</td>\n",
       "      <td>14</td>\n",
       "      <td>0</td>\n",
       "      <td>'Do Not Sell My Info': U.S. retailers rush to ...</td>\n",
       "      <td>20.29</td>\n",
       "      <td>In addition to retailers, the law affects a br...</td>\n",
       "    </tr>\n",
       "    <tr>\n",
       "      <th>155696</th>\n",
       "      <td>82113</td>\n",
       "      <td>Reuters</td>\n",
       "      <td>technology-news</td>\n",
       "      <td>2019-12-30</td>\n",
       "      <td>14</td>\n",
       "      <td>0</td>\n",
       "      <td>'Do Not Sell My Info': U.S. retailers rush to ...</td>\n",
       "      <td>22.29</td>\n",
       "      <td>A Walmart source said the company's different ...</td>\n",
       "    </tr>\n",
       "    <tr>\n",
       "      <th>155697</th>\n",
       "      <td>82114</td>\n",
       "      <td>Reuters</td>\n",
       "      <td>technology-news</td>\n",
       "      <td>2019-12-30</td>\n",
       "      <td>13</td>\n",
       "      <td>0</td>\n",
       "      <td>Huawei's 2019 revenue to jump 18%, forecasts '...</td>\n",
       "      <td>87.05</td>\n",
       "      <td>Huawei's Rotating Chairman Eric Xu revealed th...</td>\n",
       "    </tr>\n",
       "    <tr>\n",
       "      <th>155698</th>\n",
       "      <td>82114</td>\n",
       "      <td>Reuters</td>\n",
       "      <td>technology-news</td>\n",
       "      <td>2019-12-30</td>\n",
       "      <td>13</td>\n",
       "      <td>0</td>\n",
       "      <td>Huawei's 2019 revenue to jump 18%, forecasts '...</td>\n",
       "      <td>29.06</td>\n",
       "      <td>The newest Mate 30 smartphone first went on sa...</td>\n",
       "    </tr>\n",
       "    <tr>\n",
       "      <th>155699</th>\n",
       "      <td>82114</td>\n",
       "      <td>Reuters</td>\n",
       "      <td>technology-news</td>\n",
       "      <td>2019-12-30</td>\n",
       "      <td>13</td>\n",
       "      <td>0</td>\n",
       "      <td>Huawei's 2019 revenue to jump 18%, forecasts '...</td>\n",
       "      <td>29.34</td>\n",
       "      <td>Xu said in his letter that Huawei would in 202...</td>\n",
       "    </tr>\n",
       "  </tbody>\n",
       "</table>\n",
       "<p>155700 rows × 9 columns</p>\n",
       "</div>"
      ],
      "text/plain": [
       "        news_id    media          section        date  news_seq  sent_seq  \\\n",
       "0             1    ZDNET      3D Printing  2010-03-19        10         1   \n",
       "1             2    ZDNET      3D Printing  2010-04-16         4         1   \n",
       "2             3    ZDNET      3D Printing  2010-04-21         1         1   \n",
       "3             4    ZDNET      3D Printing  2010-04-23         0         0   \n",
       "4             5    ZDNET      3D Printing  2010-05-17        11         0   \n",
       "...         ...      ...              ...         ...       ...       ...   \n",
       "155695    82113  Reuters  technology-news  2019-12-30        14         0   \n",
       "155696    82113  Reuters  technology-news  2019-12-30        14         0   \n",
       "155697    82114  Reuters  technology-news  2019-12-30        13         0   \n",
       "155698    82114  Reuters  technology-news  2019-12-30        13         0   \n",
       "155699    82114  Reuters  technology-news  2019-12-30        13         0   \n",
       "\n",
       "                                                    title  sim_score  \\\n",
       "0       MFPs Continue to Lead the Way in the Worldwide...      77.10   \n",
       "1       Printer drivers: A thing of the past? Google, ...      16.03   \n",
       "2                   Sorting Out the Printing Device \"Zoo\"      37.65   \n",
       "3                      On the Prowl for MPS and Cute Cats      52.70   \n",
       "4       HP earnings on tap: Strong quarter but integra...      19.51   \n",
       "...                                                   ...        ...   \n",
       "155695  'Do Not Sell My Info': U.S. retailers rush to ...      20.29   \n",
       "155696  'Do Not Sell My Info': U.S. retailers rush to ...      22.29   \n",
       "155697  Huawei's 2019 revenue to jump 18%, forecasts '...      87.05   \n",
       "155698  Huawei's 2019 revenue to jump 18%, forecasts '...      29.06   \n",
       "155699  Huawei's 2019 revenue to jump 18%, forecasts '...      29.34   \n",
       "\n",
       "                                                 sentence  \n",
       "0       This segment had another solid showing in a ch...  \n",
       "1       Using the one component all major devices and ...  \n",
       "2       In research recently conducted by the company ...  \n",
       "3       That's backed up by research from Springboard ...  \n",
       "4       Whitmore said HP is likely to maintain its fis...  \n",
       "...                                                   ...  \n",
       "155695  In addition to retailers, the law affects a br...  \n",
       "155696  A Walmart source said the company's different ...  \n",
       "155697  Huawei's Rotating Chairman Eric Xu revealed th...  \n",
       "155698  The newest Mate 30 smartphone first went on sa...  \n",
       "155699  Xu said in his letter that Huawei would in 202...  \n",
       "\n",
       "[155700 rows x 9 columns]"
      ]
     },
     "execution_count": 81,
     "metadata": {},
     "output_type": "execute_result"
    }
   ],
   "source": [
    "data"
   ]
  },
  {
   "cell_type": "markdown",
   "metadata": {},
   "source": [
    "# 2. 전처리"
   ]
  },
  {
   "cell_type": "code",
   "execution_count": 2,
   "metadata": {},
   "outputs": [],
   "source": [
    "import re\n",
    "import nltk\n",
    "from nltk.tokenize import word_tokenize\n",
    "from nltk.stem import WordNetLemmatizer\n",
    "from nltk.stem import PorterStemmer\n",
    "from nltk.stem import LancasterStemmer\n",
    "from nltk.corpus import stopwords \n",
    "#stop_words = set(stopwords.words('english')) "
   ]
  },
  {
   "cell_type": "code",
   "execution_count": 10,
   "metadata": {},
   "outputs": [
    {
     "name": "stderr",
     "output_type": "stream",
     "text": [
      "[nltk_data] Downloading package punkt to /Users/michelle/nltk_data...\n",
      "[nltk_data]   Unzipping tokenizers/punkt.zip.\n"
     ]
    },
    {
     "data": {
      "text/plain": [
       "True"
      ]
     },
     "execution_count": 10,
     "metadata": {},
     "output_type": "execute_result"
    }
   ],
   "source": [
    "#nltk.download('punkt')"
   ]
  },
  {
   "cell_type": "code",
   "execution_count": 41,
   "metadata": {},
   "outputs": [
    {
     "name": "stderr",
     "output_type": "stream",
     "text": [
      "[nltk_data] Downloading package wordnet to\n",
      "[nltk_data]     /Users/michelle/nltk_data...\n",
      "[nltk_data]   Unzipping corpora/wordnet.zip.\n"
     ]
    },
    {
     "data": {
      "text/plain": [
       "True"
      ]
     },
     "execution_count": 41,
     "metadata": {},
     "output_type": "execute_result"
    }
   ],
   "source": [
    "#nltk.download('wordnet')"
   ]
  },
  {
   "cell_type": "code",
   "execution_count": 50,
   "metadata": {},
   "outputs": [
    {
     "name": "stderr",
     "output_type": "stream",
     "text": [
      "[nltk_data] Downloading package stopwords to\n",
      "[nltk_data]     /Users/michelle/nltk_data...\n",
      "[nltk_data]   Unzipping corpora/stopwords.zip.\n"
     ]
    },
    {
     "data": {
      "text/plain": [
       "True"
      ]
     },
     "execution_count": 50,
     "metadata": {},
     "output_type": "execute_result"
    }
   ],
   "source": [
    "#nltk.download('stopwords')"
   ]
  },
  {
   "cell_type": "code",
   "execution_count": 82,
   "metadata": {},
   "outputs": [
    {
     "data": {
      "text/plain": [
       "'This segment had another solid showing in a challenging economic environment with unit shipments declining just 6% year over year in the second quarter of 2009 (2Q09).'"
      ]
     },
     "execution_count": 82,
     "metadata": {},
     "output_type": "execute_result"
    }
   ],
   "source": [
    "text = data['sentence'][0]\n",
    "text"
   ]
  },
  {
   "cell_type": "markdown",
   "metadata": {},
   "source": [
    "### Cleaning"
   ]
  },
  {
   "cell_type": "code",
   "execution_count": 3,
   "metadata": {},
   "outputs": [],
   "source": [
    "def cleanText(readData):\n",
    "    #텍스트에 포함되어 있는 특수 문자 제거 (단, $, % 제외)\n",
    "    text = re.sub('[-=+,#/\\?:^.@*\\\"※~&ㆍ!』\\\\‘|\\(\\)\\[\\]\\<\\>`\\'…》]', '', str(readData))\n",
    "    #길이 1~2인 단어 제거 (숫자/특수문자 제외)\n",
    "    shortword = re.compile(r'\\W*\\b[a-zA-Z]{1,2}\\b')\n",
    "    cleaned_text = shortword.sub('', text)\n",
    "    return cleaned_text"
   ]
  },
  {
   "cell_type": "code",
   "execution_count": 83,
   "metadata": {},
   "outputs": [],
   "source": [
    "text = cleanText(text)"
   ]
  },
  {
   "cell_type": "code",
   "execution_count": 84,
   "metadata": {},
   "outputs": [
    {
     "data": {
      "text/plain": [
       "'This segment had another solid showing challenging economic environment with unit shipments declining just 6% year over year the second quarter 2009 2Q09'"
      ]
     },
     "execution_count": 84,
     "metadata": {},
     "output_type": "execute_result"
    }
   ],
   "source": [
    "text"
   ]
  },
  {
   "cell_type": "markdown",
   "metadata": {},
   "source": [
    "### Tokenization"
   ]
  },
  {
   "cell_type": "code",
   "execution_count": 85,
   "metadata": {},
   "outputs": [
    {
     "name": "stdout",
     "output_type": "stream",
     "text": [
      "['This', 'segment', 'had', 'another', 'solid', 'showing', 'challenging', 'economic', 'environment', 'with', 'unit', 'shipments', 'declining', 'just', '6', '%', 'year', 'over', 'year', 'the', 'second', 'quarter', '2009', '2Q09']\n",
      "['This', 'segment', 'another', 'solid', 'showing', 'challenging', 'economic', 'environment', 'unit', 'shipments', 'declining', '6', '%', 'year', 'year', 'second', 'quarter', '2009', '2Q09']\n"
     ]
    }
   ],
   "source": [
    "stop_words = set(stopwords.words('english')) \n",
    "words = word_tokenize(text)\n",
    "\n",
    "result = []\n",
    "for w in words: \n",
    "    if w not in stop_words: \n",
    "        result.append(w) \n",
    "\n",
    "print(words) \n",
    "print(result) "
   ]
  },
  {
   "cell_type": "markdown",
   "metadata": {},
   "source": [
    "### Lemmatization"
   ]
  },
  {
   "cell_type": "code",
   "execution_count": 53,
   "metadata": {},
   "outputs": [
    {
     "name": "stdout",
     "output_type": "stream",
     "text": [
      "['This', 'segment', 'another', 'solid', 'showing', 'challenging', 'economic', 'environment', 'unit', 'shipment', 'declining', '6', '%', 'year', 'year', 'second', 'quarter', '2009', '2Q09']\n"
     ]
    }
   ],
   "source": [
    "n = WordNetLemmatizer()\n",
    "result = [n.lemmatize(w) for w in result]\n",
    "print(result)"
   ]
  },
  {
   "cell_type": "markdown",
   "metadata": {},
   "source": [
    "### Stemming"
   ]
  },
  {
   "cell_type": "code",
   "execution_count": 54,
   "metadata": {},
   "outputs": [
    {
     "name": "stdout",
     "output_type": "stream",
     "text": [
      "['thi', 'segment', 'anoth', 'solid', 'show', 'challeng', 'econom', 'environ', 'unit', 'shipment', 'declin', '6', '%', 'year', 'year', 'second', 'quarter', '2009', '2q09']\n"
     ]
    }
   ],
   "source": [
    "s = PorterStemmer()\n",
    "result1 = [s.stem(w) for w in result]\n",
    "print(result1)"
   ]
  },
  {
   "cell_type": "code",
   "execution_count": 55,
   "metadata": {},
   "outputs": [
    {
     "name": "stdout",
     "output_type": "stream",
     "text": [
      "['thi', 'seg', 'anoth', 'solid', 'show', 'challeng', 'econom', 'environ', 'unit', 'ship', 'declin', '6', '%', 'year', 'year', 'second', 'quart', '2009', '2q09']\n"
     ]
    }
   ],
   "source": [
    "l = LancasterStemmer()\n",
    "result2 = [l.stem(w) for w in result]\n",
    "print(result2)"
   ]
  },
  {
   "cell_type": "markdown",
   "metadata": {},
   "source": [
    "**Comparison => Decided to use Porter Stemmer!**"
   ]
  },
  {
   "cell_type": "markdown",
   "metadata": {},
   "source": [
    "### 전처리 과정 전체를 하나의 함수로 합치기"
   ]
  },
  {
   "cell_type": "code",
   "execution_count": 4,
   "metadata": {},
   "outputs": [],
   "source": [
    "def listToString(l):  \n",
    "    # initialize an empty string \n",
    "    str1 = \" \" \n",
    "    # return string   \n",
    "    return (str1.join(l))"
   ]
  },
  {
   "cell_type": "code",
   "execution_count": 5,
   "metadata": {},
   "outputs": [],
   "source": [
    "#초기 설정: stopwords, lemmatizer, stemmer 설정 필요!\n",
    "#stop_words = set(stopwords.words('english')) \n",
    "#n = WordNetLemmatizer()\n",
    "#s = PorterStemmer()\n",
    "\n",
    "def textPreproc(text):\n",
    "    temp = cleanText(text)\n",
    "    words = word_tokenize(temp)\n",
    "    result = []\n",
    "    for w in words: \n",
    "        if w not in stop_words: \n",
    "            result.append(w) \n",
    "    lresult = [n.lemmatize(w) for w in result]\n",
    "    sresult = [s.stem(w) for w in lresult]\n",
    "    final = listToString(sresult)\n",
    "    return final"
   ]
  },
  {
   "cell_type": "code",
   "execution_count": 94,
   "metadata": {},
   "outputs": [
    {
     "data": {
      "text/plain": [
       "\"Using the one component all major devices and operating systems have in common-- access to the cloud-- today we're introducing some preliminary designs for a project called Google Cloud Print, a service that enables any application (web, desktop, or mobile) on any device to print to any printer.\""
      ]
     },
     "execution_count": 94,
     "metadata": {},
     "output_type": "execute_result"
    }
   ],
   "source": [
    "example = data['sentence'][1]\n",
    "example"
   ]
  },
  {
   "cell_type": "code",
   "execution_count": 95,
   "metadata": {},
   "outputs": [
    {
     "name": "stdout",
     "output_type": "stream",
     "text": [
      "use one compon major devic oper system common access cloud today introduc preliminari design project call googl cloud print servic enabl applic web desktop mobil devic print printer\n"
     ]
    }
   ],
   "source": [
    "print(textPreproc(example))"
   ]
  },
  {
   "cell_type": "markdown",
   "metadata": {},
   "source": [
    "### data['sentence'] 전체에 textPreproc 적용"
   ]
  },
  {
   "cell_type": "code",
   "execution_count": 96,
   "metadata": {},
   "outputs": [],
   "source": [
    "sentences = data['sentence']"
   ]
  },
  {
   "cell_type": "code",
   "execution_count": 97,
   "metadata": {},
   "outputs": [],
   "source": [
    "sentences = sentences.apply(textPreproc)"
   ]
  },
  {
   "cell_type": "code",
   "execution_count": 98,
   "metadata": {},
   "outputs": [
    {
     "data": {
      "text/plain": [
       "0         thi segment anoth solid show challeng econom e...\n",
       "1         use one compon major devic oper system common ...\n",
       "2         research recent conduct compani among 4500 wor...\n",
       "3         that back research springboard indic global mp...\n",
       "4         whitmor said like maintain fiscal 2010 outlook...\n",
       "                                ...                        \n",
       "155695    addit retail law affect broad swath firm inclu...\n",
       "155696    walmart sourc said compani differ busi team in...\n",
       "155697    huawei rotat chairman eric reveal number new y...\n",
       "155698    the newest mate 30 smartphon first went sale s...\n",
       "155699    said letter huawei would 2020 build huawei mob...\n",
       "Name: sentence, Length: 155700, dtype: object"
      ]
     },
     "execution_count": 98,
     "metadata": {},
     "output_type": "execute_result"
    }
   ],
   "source": [
    "sentences"
   ]
  },
  {
   "cell_type": "code",
   "execution_count": 99,
   "metadata": {},
   "outputs": [],
   "source": [
    "data['sent_preproc'] = sentences"
   ]
  },
  {
   "cell_type": "code",
   "execution_count": 100,
   "metadata": {},
   "outputs": [],
   "source": [
    "#data.to_csv('n_eng_news_sentence_preproc.csv')"
   ]
  },
  {
   "cell_type": "code",
   "execution_count": null,
   "metadata": {},
   "outputs": [],
   "source": []
  },
  {
   "cell_type": "code",
   "execution_count": 6,
   "metadata": {},
   "outputs": [],
   "source": [
    "df = pd.read_excel('engnews_posneg1000.xlsx')"
   ]
  },
  {
   "cell_type": "code",
   "execution_count": 9,
   "metadata": {},
   "outputs": [
    {
     "data": {
      "text/html": [
       "<div>\n",
       "<style scoped>\n",
       "    .dataframe tbody tr th:only-of-type {\n",
       "        vertical-align: middle;\n",
       "    }\n",
       "\n",
       "    .dataframe tbody tr th {\n",
       "        vertical-align: top;\n",
       "    }\n",
       "\n",
       "    .dataframe thead th {\n",
       "        text-align: right;\n",
       "    }\n",
       "</style>\n",
       "<table border=\"1\" class=\"dataframe\">\n",
       "  <thead>\n",
       "    <tr style=\"text-align: right;\">\n",
       "      <th></th>\n",
       "      <th>news_id</th>\n",
       "      <th>media</th>\n",
       "      <th>section</th>\n",
       "      <th>date</th>\n",
       "      <th>page</th>\n",
       "      <th>p_id</th>\n",
       "      <th>title</th>\n",
       "      <th>sim_score</th>\n",
       "      <th>sentence</th>\n",
       "      <th>body</th>\n",
       "      <th>tagging</th>\n",
       "      <th>remark</th>\n",
       "      <th>중립 0 긍정 1 부정 2 관련없음 9</th>\n",
       "    </tr>\n",
       "  </thead>\n",
       "  <tbody>\n",
       "    <tr>\n",
       "      <th>0</th>\n",
       "      <td>1</td>\n",
       "      <td>Reuters</td>\n",
       "      <td>technology-news</td>\n",
       "      <td>2018-05-07</td>\n",
       "      <td>514</td>\n",
       "      <td>9</td>\n",
       "      <td>Google launches Android Things for appliances ...</td>\n",
       "      <td>21.662485</td>\n",
       "      <td>Android TV activations doubled last year compa...</td>\n",
       "      <td>SAN FRANCISCO (Reuters) - Alphabet Inc's Googl...</td>\n",
       "      <td>1</td>\n",
       "      <td>NaN</td>\n",
       "      <td>NaN</td>\n",
       "    </tr>\n",
       "    <tr>\n",
       "      <th>1</th>\n",
       "      <td>2</td>\n",
       "      <td>Reuters</td>\n",
       "      <td>technology-news</td>\n",
       "      <td>2019-03-06</td>\n",
       "      <td>340</td>\n",
       "      <td>16</td>\n",
       "      <td>Fitbit launches lower-cost fitness devices to ...</td>\n",
       "      <td>19.123574</td>\n",
       "      <td>The Apple Watch included an electrocardiogram ...</td>\n",
       "      <td>(Reuters) - Fitbit Inc launched its cheapest s...</td>\n",
       "      <td>0</td>\n",
       "      <td>NaN</td>\n",
       "      <td>NaN</td>\n",
       "    </tr>\n",
       "    <tr>\n",
       "      <th>2</th>\n",
       "      <td>3</td>\n",
       "      <td>Bloomberg</td>\n",
       "      <td>economy</td>\n",
       "      <td>2019-07-02</td>\n",
       "      <td>737</td>\n",
       "      <td>13</td>\n",
       "      <td>The Biggest Challenges Facing India's New Fina...</td>\n",
       "      <td>18.840646</td>\n",
       "      <td>On May 31, within hours of her arrival at her ...</td>\n",
       "      <td>(Bloomberg) -- India’s first female finance mi...</td>\n",
       "      <td>2</td>\n",
       "      <td>NaN</td>\n",
       "      <td>NaN</td>\n",
       "    </tr>\n",
       "  </tbody>\n",
       "</table>\n",
       "</div>"
      ],
      "text/plain": [
       "   news_id      media          section       date  page  p_id  \\\n",
       "0        1    Reuters  technology-news 2018-05-07   514     9   \n",
       "1        2    Reuters  technology-news 2019-03-06   340    16   \n",
       "2        3  Bloomberg          economy 2019-07-02   737    13   \n",
       "\n",
       "                                               title  sim_score  \\\n",
       "0  Google launches Android Things for appliances ...  21.662485   \n",
       "1  Fitbit launches lower-cost fitness devices to ...  19.123574   \n",
       "2  The Biggest Challenges Facing India's New Fina...  18.840646   \n",
       "\n",
       "                                            sentence  \\\n",
       "0  Android TV activations doubled last year compa...   \n",
       "1  The Apple Watch included an electrocardiogram ...   \n",
       "2  On May 31, within hours of her arrival at her ...   \n",
       "\n",
       "                                                body  tagging remark  \\\n",
       "0  SAN FRANCISCO (Reuters) - Alphabet Inc's Googl...        1    NaN   \n",
       "1  (Reuters) - Fitbit Inc launched its cheapest s...        0    NaN   \n",
       "2  (Bloomberg) -- India’s first female finance mi...        2    NaN   \n",
       "\n",
       "   중립 0 긍정 1 부정 2 관련없음 9  \n",
       "0                    NaN  \n",
       "1                    NaN  \n",
       "2                    NaN  "
      ]
     },
     "execution_count": 9,
     "metadata": {},
     "output_type": "execute_result"
    }
   ],
   "source": [
    "df.head(3)"
   ]
  },
  {
   "cell_type": "code",
   "execution_count": 8,
   "metadata": {},
   "outputs": [],
   "source": [
    "sentences = df['sentence'].apply(textPreproc)"
   ]
  },
  {
   "cell_type": "code",
   "execution_count": 10,
   "metadata": {},
   "outputs": [
    {
     "data": {
      "text/plain": [
       "0      android activ doubl last year compar year vehi...\n",
       "1      the appl watch includ electrocardiogram featur...\n",
       "2      may 31 within hour arriv new offic new delhi g...\n",
       "3      juli appl report recent quarter compani worst ...\n",
       "4      xiaomi biggest immedi challeng could expect de...\n",
       "                             ...                        \n",
       "995    the return technolog vendor ditch headphon jac...\n",
       "996    much like cuttingedg technolog time think play...\n",
       "997    ole old news come smartphon wasnt ce 2019 got ...\n",
       "998    the cso technolog emit sound whole screen cust...\n",
       "999    the challeng oem make led smaller without sacr...\n",
       "Name: sentence, Length: 1000, dtype: object"
      ]
     },
     "execution_count": 10,
     "metadata": {},
     "output_type": "execute_result"
    }
   ],
   "source": [
    "sentences"
   ]
  },
  {
   "cell_type": "code",
   "execution_count": 11,
   "metadata": {},
   "outputs": [],
   "source": [
    "df['sent_preproc'] = sentences\n",
    "df.to_csv('n_eng_news_tagged1000_preproc.csv')"
   ]
  },
  {
   "cell_type": "code",
   "execution_count": null,
   "metadata": {},
   "outputs": [],
   "source": []
  }
 ],
 "metadata": {
  "kernelspec": {
   "display_name": "Python 3",
   "language": "python",
   "name": "python3"
  },
  "language_info": {
   "codemirror_mode": {
    "name": "ipython",
    "version": 3
   },
   "file_extension": ".py",
   "mimetype": "text/x-python",
   "name": "python",
   "nbconvert_exporter": "python",
   "pygments_lexer": "ipython3",
   "version": "3.7.6"
  }
 },
 "nbformat": 4,
 "nbformat_minor": 4
}
